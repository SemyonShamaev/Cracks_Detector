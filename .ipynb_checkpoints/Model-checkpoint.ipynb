{
 "cells": [
  {
   "cell_type": "code",
   "execution_count": 1,
   "id": "bdfd09a2-b6dd-4c61-aab3-3ef018481669",
   "metadata": {},
   "outputs": [
    {
     "data": {
      "text/plain": [
       "[name: \"/device:CPU:0\"\n",
       " device_type: \"CPU\"\n",
       " memory_limit: 268435456\n",
       " locality {\n",
       " }\n",
       " incarnation: 2204631483600338867,\n",
       " name: \"/device:GPU:0\"\n",
       " device_type: \"GPU\"\n",
       " memory_limit: 6950027264\n",
       " locality {\n",
       "   bus_id: 1\n",
       "   links {\n",
       "   }\n",
       " }\n",
       " incarnation: 11655152334864597290\n",
       " physical_device_desc: \"device: 0, name: NVIDIA GeForce GTX 1070 with Max-Q Design, pci bus id: 0000:01:00.0, compute capability: 6.1\"]"
      ]
     },
     "execution_count": 1,
     "metadata": {},
     "output_type": "execute_result"
    }
   ],
   "source": [
    "import numpy as np\n",
    "import matplotlib.pyplot as plt\n",
    "import pandas as pd\n",
    "import os\n",
    "from tqdm import tqdm_notebook\n",
    "import cv2\n",
    "from PIL import Image\n",
    "\n",
    "import keras\n",
    "from keras.layers.convolutional import Conv2DTranspose\n",
    "from keras.layers.merge import concatenate\n",
    "from keras.layers import UpSampling2D, Conv2D, Activation, Input, Dropout, MaxPooling2D\n",
    "from keras import Model\n",
    "from keras import backend as K\n",
    "from keras.layers.core import Lambda\n",
    "from skimage.morphology import binary_opening, disk, label\n",
    "from skimage.segmentation import mark_boundaries\n",
    "from keras.models import load_model\n",
    "\n",
    "from tensorflow.python.client import device_lib\n",
    "device_lib.list_local_devices()"
   ]
  },
  {
   "cell_type": "code",
   "execution_count": 2,
   "id": "1f3a2e4a-be87-4317-a317-fd93745fd9a7",
   "metadata": {},
   "outputs": [],
   "source": [
    "tr = pd.read_excel(r'C:\\Users\\user\\Cracks_Detector\\SyntheticMasks.xlsx')"
   ]
  },
  {
   "cell_type": "code",
   "execution_count": 3,
   "id": "63c0f636-059a-44ea-b4cb-e1d3f98dfcbc",
   "metadata": {},
   "outputs": [],
   "source": [
    "df_train = tr.copy()"
   ]
  },
  {
   "cell_type": "code",
   "execution_count": 4,
   "id": "390b41c7-1315-4bb9-9d87-0dc9ea9d2576",
   "metadata": {},
   "outputs": [],
   "source": [
    "def multi_rle_encode(img, **kwargs):\n",
    "    labels = label(img)\n",
    "    if img.ndim > 2:\n",
    "        return [rle_encode(np.sum(labels==k, axis=2), kwargs) for k in np.unique(labels[labels>0])]\n",
    "    else:\n",
    "        return [rle_encode(labels==k, *kwargs) for k in np.unique(labels[labels>0])]\n",
    "\n",
    "def rle_encode(img, min_max_threshold=1e-3, max_mean_threshold=None):\n",
    "    if np.max(img) < min_max_threshold:\n",
    "        return '' \n",
    "    if max_mean_threshold and np.mean(img) > max_mean_threshold:\n",
    "        return '' \n",
    "    pixels = img.T.flatten()\n",
    "    pixels = np.concatenate([[0], pixels, [0]])\n",
    "    runs = np.where(pixels[1:] != pixels[:-1])[0] + 1\n",
    "    runs[1::2] -= runs[::2]\n",
    "    return ' '.join(str(x) for x in runs)\n",
    "\n",
    "def rle_decode(mask_rle, shape=(32, 32)):\n",
    "    s = mask_rle.split()\n",
    "    starts, lengths = [np.asarray(x, dtype=int) for x in (s[0:][::2], s[1:][::2])]\n",
    "    starts -= 1\n",
    "    ends = starts + lengths\n",
    "    img = np.zeros(shape[0]*shape[1], dtype=np.uint8)\n",
    "    for lo, hi in zip(starts, ends):\n",
    "        img[lo:hi] = 1\n",
    "    return img.reshape(shape).T\n",
    "\n",
    "def masks_as_image(in_mask_list):\n",
    "    all_masks = np.zeros((32, 32), dtype = np.uint8)\n",
    "    for mask in in_mask_list:\n",
    "        if isinstance(mask, str):\n",
    "            all_masks |= rle_decode(mask)\n",
    "    return all_masks\n",
    "\n",
    "def masks_as_color(in_mask_list):\n",
    "    all_masks = np.zeros((32, 1024), dtype = np.float)\n",
    "    scale = lambda x: (len(in_mask_list)+x+1) / (len(in_mask_list)*2) \n",
    "    for i,mask in enumerate(in_mask_list):\n",
    "        if isinstance(mask, str):\n",
    "            all_masks[:,:] += scale(i) * rle_decode(mask)\n",
    "    return all_masks"
   ]
  },
  {
   "cell_type": "code",
   "execution_count": 5,
   "id": "bf1c612b-b1f8-481f-8d6c-1abfba50c49b",
   "metadata": {},
   "outputs": [
    {
     "name": "stdout",
     "output_type": "stream",
     "text": [
      "45000 training masks\n",
      "5000 validation masks\n"
     ]
    }
   ],
   "source": [
    "from sklearn.model_selection import train_test_split\n",
    "train_df, valid_df = train_test_split(df_train, \n",
    "                 test_size = 0.1)\n",
    "print(train_df.shape[0], 'training masks')\n",
    "print(valid_df.shape[0], 'validation masks')"
   ]
  },
  {
   "cell_type": "code",
   "execution_count": 6,
   "id": "5a1dfcb4-987a-439d-8e97-2569c0748c36",
   "metadata": {},
   "outputs": [],
   "source": [
    "def keras_generator(in_df, batch_size):\n",
    "    while True:\n",
    "        x_batch = []\n",
    "        y_batch = []\n",
    "        \n",
    "        for i in range(batch_size):  \n",
    "            fn = in_df['ImageId'].iloc[i]\n",
    "\n",
    "            img = cv2.imread(r'C:\\Users\\user\\Cracks_Detector\\SyntheticTrain\\\\' + fn )\n",
    "            img = cv2.cvtColor(img, cv2.COLOR_BGR2GRAY)\n",
    "            mask = tr.query('ImageId==\"' + fn + '\"')['EncodedPixels']\n",
    "\n",
    "            rle = masks_as_image(mask)\n",
    "            img = cv2.resize(img, (32, 32))\n",
    "    \n",
    "            x_batch += [img]\n",
    "            y_batch += [rle]\n",
    "                                    \n",
    "        x_batch = np.array(x_batch)\n",
    "        y_batch = np.array(y_batch).swapaxes(1,2)\n",
    "\n",
    "        yield x_batch, np.expand_dims(y_batch, -1)"
   ]
  },
  {
   "cell_type": "code",
   "execution_count": 7,
   "id": "26559950-7831-4ccb-b4e2-44bd94872f4f",
   "metadata": {},
   "outputs": [
    {
     "name": "stdout",
     "output_type": "stream",
     "text": [
      "10027.png\n",
      "33643.png\n",
      "22672.png\n",
      "6414.png\n",
      "34368.png\n",
      "7107.png\n",
      "5705.png\n",
      "1794.png\n",
      "3534.png\n",
      "40826.png\n",
      "7045.png\n",
      "46613.png\n",
      "1362.png\n",
      "43283.png\n",
      "45942.png\n",
      "28204.png\n",
      "14157.png\n",
      "17474.png\n",
      "1001.png\n",
      "46321.png\n",
      "29897.png\n",
      "980.png\n"
     ]
    },
    {
     "ename": "ValueError",
     "evalue": "operands could not be broadcast together with shapes (21,) (20,) ",
     "output_type": "error",
     "traceback": [
      "\u001b[1;31m---------------------------------------------------------------------------\u001b[0m",
      "\u001b[1;31mValueError\u001b[0m                                Traceback (most recent call last)",
      "\u001b[1;32m<ipython-input-7-a9da3048be9c>\u001b[0m in \u001b[0;36m<module>\u001b[1;34m\u001b[0m\n\u001b[1;32m----> 1\u001b[1;33m \u001b[1;32mfor\u001b[0m \u001b[0mx_train\u001b[0m\u001b[1;33m,\u001b[0m \u001b[0my_train\u001b[0m \u001b[1;32min\u001b[0m \u001b[0mkeras_generator\u001b[0m\u001b[1;33m(\u001b[0m\u001b[0mtrain_df\u001b[0m\u001b[1;33m,\u001b[0m \u001b[0mlen\u001b[0m\u001b[1;33m(\u001b[0m\u001b[0mtrain_df\u001b[0m\u001b[1;33m)\u001b[0m\u001b[1;33m)\u001b[0m\u001b[1;33m:\u001b[0m\u001b[1;33m\u001b[0m\u001b[1;33m\u001b[0m\u001b[0m\n\u001b[0m\u001b[0;32m      2\u001b[0m     \u001b[1;32mbreak\u001b[0m\u001b[1;33m\u001b[0m\u001b[1;33m\u001b[0m\u001b[0m\n\u001b[0;32m      3\u001b[0m \u001b[0mprint\u001b[0m\u001b[1;33m(\u001b[0m\u001b[0mx_train\u001b[0m\u001b[1;33m.\u001b[0m\u001b[0mshape\u001b[0m\u001b[1;33m,\u001b[0m \u001b[0my_train\u001b[0m\u001b[1;33m.\u001b[0m\u001b[0mshape\u001b[0m\u001b[1;33m)\u001b[0m\u001b[1;33m\u001b[0m\u001b[1;33m\u001b[0m\u001b[0m\n",
      "\u001b[1;32m<ipython-input-6-ae3a18be4cc4>\u001b[0m in \u001b[0;36mkeras_generator\u001b[1;34m(in_df, batch_size)\u001b[0m\n\u001b[0;32m     11\u001b[0m             \u001b[0mmask\u001b[0m \u001b[1;33m=\u001b[0m \u001b[0mtr\u001b[0m\u001b[1;33m.\u001b[0m\u001b[0mquery\u001b[0m\u001b[1;33m(\u001b[0m\u001b[1;34m'ImageId==\"'\u001b[0m \u001b[1;33m+\u001b[0m \u001b[0mfn\u001b[0m \u001b[1;33m+\u001b[0m \u001b[1;34m'\"'\u001b[0m\u001b[1;33m)\u001b[0m\u001b[1;33m[\u001b[0m\u001b[1;34m'EncodedPixels'\u001b[0m\u001b[1;33m]\u001b[0m\u001b[1;33m\u001b[0m\u001b[1;33m\u001b[0m\u001b[0m\n\u001b[0;32m     12\u001b[0m             \u001b[0mprint\u001b[0m\u001b[1;33m(\u001b[0m\u001b[0mfn\u001b[0m\u001b[1;33m)\u001b[0m\u001b[1;33m\u001b[0m\u001b[1;33m\u001b[0m\u001b[0m\n\u001b[1;32m---> 13\u001b[1;33m             \u001b[0mrle\u001b[0m \u001b[1;33m=\u001b[0m \u001b[0mmasks_as_image\u001b[0m\u001b[1;33m(\u001b[0m\u001b[0mmask\u001b[0m\u001b[1;33m)\u001b[0m\u001b[1;33m\u001b[0m\u001b[1;33m\u001b[0m\u001b[0m\n\u001b[0m\u001b[0;32m     14\u001b[0m             \u001b[0mimg\u001b[0m \u001b[1;33m=\u001b[0m \u001b[0mcv2\u001b[0m\u001b[1;33m.\u001b[0m\u001b[0mresize\u001b[0m\u001b[1;33m(\u001b[0m\u001b[0mimg\u001b[0m\u001b[1;33m,\u001b[0m \u001b[1;33m(\u001b[0m\u001b[1;36m32\u001b[0m\u001b[1;33m,\u001b[0m \u001b[1;36m32\u001b[0m\u001b[1;33m)\u001b[0m\u001b[1;33m)\u001b[0m\u001b[1;33m\u001b[0m\u001b[1;33m\u001b[0m\u001b[0m\n\u001b[0;32m     15\u001b[0m \u001b[1;33m\u001b[0m\u001b[0m\n",
      "\u001b[1;32m<ipython-input-4-d28ea94c36fe>\u001b[0m in \u001b[0;36mmasks_as_image\u001b[1;34m(in_mask_list)\u001b[0m\n\u001b[0;32m     31\u001b[0m     \u001b[1;32mfor\u001b[0m \u001b[0mmask\u001b[0m \u001b[1;32min\u001b[0m \u001b[0min_mask_list\u001b[0m\u001b[1;33m:\u001b[0m\u001b[1;33m\u001b[0m\u001b[1;33m\u001b[0m\u001b[0m\n\u001b[0;32m     32\u001b[0m         \u001b[1;32mif\u001b[0m \u001b[0misinstance\u001b[0m\u001b[1;33m(\u001b[0m\u001b[0mmask\u001b[0m\u001b[1;33m,\u001b[0m \u001b[0mstr\u001b[0m\u001b[1;33m)\u001b[0m\u001b[1;33m:\u001b[0m\u001b[1;33m\u001b[0m\u001b[1;33m\u001b[0m\u001b[0m\n\u001b[1;32m---> 33\u001b[1;33m             \u001b[0mall_masks\u001b[0m \u001b[1;33m|=\u001b[0m \u001b[0mrle_decode\u001b[0m\u001b[1;33m(\u001b[0m\u001b[0mmask\u001b[0m\u001b[1;33m)\u001b[0m\u001b[1;33m\u001b[0m\u001b[1;33m\u001b[0m\u001b[0m\n\u001b[0m\u001b[0;32m     34\u001b[0m     \u001b[1;32mreturn\u001b[0m \u001b[0mall_masks\u001b[0m\u001b[1;33m\u001b[0m\u001b[1;33m\u001b[0m\u001b[0m\n\u001b[0;32m     35\u001b[0m \u001b[1;33m\u001b[0m\u001b[0m\n",
      "\u001b[1;32m<ipython-input-4-d28ea94c36fe>\u001b[0m in \u001b[0;36mrle_decode\u001b[1;34m(mask_rle, shape)\u001b[0m\n\u001b[0;32m     21\u001b[0m     \u001b[0mstarts\u001b[0m\u001b[1;33m,\u001b[0m \u001b[0mlengths\u001b[0m \u001b[1;33m=\u001b[0m \u001b[1;33m[\u001b[0m\u001b[0mnp\u001b[0m\u001b[1;33m.\u001b[0m\u001b[0masarray\u001b[0m\u001b[1;33m(\u001b[0m\u001b[0mx\u001b[0m\u001b[1;33m,\u001b[0m \u001b[0mdtype\u001b[0m\u001b[1;33m=\u001b[0m\u001b[0mint\u001b[0m\u001b[1;33m)\u001b[0m \u001b[1;32mfor\u001b[0m \u001b[0mx\u001b[0m \u001b[1;32min\u001b[0m \u001b[1;33m(\u001b[0m\u001b[0ms\u001b[0m\u001b[1;33m[\u001b[0m\u001b[1;36m0\u001b[0m\u001b[1;33m:\u001b[0m\u001b[1;33m]\u001b[0m\u001b[1;33m[\u001b[0m\u001b[1;33m:\u001b[0m\u001b[1;33m:\u001b[0m\u001b[1;36m2\u001b[0m\u001b[1;33m]\u001b[0m\u001b[1;33m,\u001b[0m \u001b[0ms\u001b[0m\u001b[1;33m[\u001b[0m\u001b[1;36m1\u001b[0m\u001b[1;33m:\u001b[0m\u001b[1;33m]\u001b[0m\u001b[1;33m[\u001b[0m\u001b[1;33m:\u001b[0m\u001b[1;33m:\u001b[0m\u001b[1;36m2\u001b[0m\u001b[1;33m]\u001b[0m\u001b[1;33m)\u001b[0m\u001b[1;33m]\u001b[0m\u001b[1;33m\u001b[0m\u001b[1;33m\u001b[0m\u001b[0m\n\u001b[0;32m     22\u001b[0m     \u001b[0mstarts\u001b[0m \u001b[1;33m-=\u001b[0m \u001b[1;36m1\u001b[0m\u001b[1;33m\u001b[0m\u001b[1;33m\u001b[0m\u001b[0m\n\u001b[1;32m---> 23\u001b[1;33m     \u001b[0mends\u001b[0m \u001b[1;33m=\u001b[0m \u001b[0mstarts\u001b[0m \u001b[1;33m+\u001b[0m \u001b[0mlengths\u001b[0m\u001b[1;33m\u001b[0m\u001b[1;33m\u001b[0m\u001b[0m\n\u001b[0m\u001b[0;32m     24\u001b[0m     \u001b[0mimg\u001b[0m \u001b[1;33m=\u001b[0m \u001b[0mnp\u001b[0m\u001b[1;33m.\u001b[0m\u001b[0mzeros\u001b[0m\u001b[1;33m(\u001b[0m\u001b[0mshape\u001b[0m\u001b[1;33m[\u001b[0m\u001b[1;36m0\u001b[0m\u001b[1;33m]\u001b[0m\u001b[1;33m*\u001b[0m\u001b[0mshape\u001b[0m\u001b[1;33m[\u001b[0m\u001b[1;36m1\u001b[0m\u001b[1;33m]\u001b[0m\u001b[1;33m,\u001b[0m \u001b[0mdtype\u001b[0m\u001b[1;33m=\u001b[0m\u001b[0mnp\u001b[0m\u001b[1;33m.\u001b[0m\u001b[0muint8\u001b[0m\u001b[1;33m)\u001b[0m\u001b[1;33m\u001b[0m\u001b[1;33m\u001b[0m\u001b[0m\n\u001b[0;32m     25\u001b[0m     \u001b[1;32mfor\u001b[0m \u001b[0mlo\u001b[0m\u001b[1;33m,\u001b[0m \u001b[0mhi\u001b[0m \u001b[1;32min\u001b[0m \u001b[0mzip\u001b[0m\u001b[1;33m(\u001b[0m\u001b[0mstarts\u001b[0m\u001b[1;33m,\u001b[0m \u001b[0mends\u001b[0m\u001b[1;33m)\u001b[0m\u001b[1;33m:\u001b[0m\u001b[1;33m\u001b[0m\u001b[1;33m\u001b[0m\u001b[0m\n",
      "\u001b[1;31mValueError\u001b[0m: operands could not be broadcast together with shapes (21,) (20,) "
     ]
    }
   ],
   "source": [
    "for x_train, y_train in keras_generator(train_df, len(train_df)):\n",
    "    break\n",
    "print(x_train.shape, y_train.shape)"
   ]
  },
  {
   "cell_type": "code",
   "execution_count": null,
   "id": "9a566491-f057-4d19-9962-bcbd7d841a16",
   "metadata": {},
   "outputs": [],
   "source": [
    "for x_valid, y_valid in keras_generator(valid_df, len(valid_df)):\n",
    "    break\n",
    "print(x_valid.shape, y_valid.shape)"
   ]
  },
  {
   "cell_type": "code",
   "execution_count": null,
   "id": "24b7c640-8c52-4144-b3cc-4d48f3f83443",
   "metadata": {},
   "outputs": [],
   "source": [
    "plt.imshow(x_train[3])"
   ]
  },
  {
   "cell_type": "code",
   "execution_count": null,
   "id": "dcc305b8-7e8a-4d70-b847-cc0b8ef214e7",
   "metadata": {},
   "outputs": [],
   "source": [
    "plt.imshow(np.squeeze(y_train[3]))"
   ]
  },
  {
   "cell_type": "code",
   "execution_count": null,
   "id": "59aef404-9a52-4498-9cde-05290c07c82b",
   "metadata": {},
   "outputs": [],
   "source": [
    "inputs = Input((32, 32, 1))\n",
    "s = Lambda(lambda x_train: x_train / 255) (inputs)\n",
    "\n",
    "c1 = Conv2D(16, (3, 3), activation='elu', padding='same') (s)\n",
    "c1 = Dropout(0.1) (c1)\n",
    "c1 = Conv2D(16, (3, 3), activation='elu', padding='same') (c1)\n",
    "p1 = MaxPooling2D((2, 2)) (c1)\n",
    "\n",
    "c2 = Conv2D(32, (3, 3), activation='elu', padding='same') (p1)\n",
    "c2 = Dropout(0.1) (c2)\n",
    "c2 = Conv2D(32, (3, 3), activation='elu', padding='same') (c2)\n",
    "p2 = MaxPooling2D((2, 2)) (c2)\n",
    "\n",
    "c3 = Conv2D(64, (3, 3), activation='elu', padding='same') (p2)\n",
    "c3 = Dropout(0.2) (c3)\n",
    "c3 = Conv2D(64, (3, 3), activation='elu', padding='same') (c3)\n",
    "p3 = MaxPooling2D((2, 2)) (c3)\n",
    "\n",
    "c4 = Conv2D(128, (3, 3), activation='elu', padding='same') (p3)\n",
    "c4 = Dropout(0.2) (c4)\n",
    "c4 = Conv2D(128, (3, 3), activation='elu', padding='same') (c4)\n",
    "p4 = MaxPooling2D(pool_size=(2, 2)) (c4)\n",
    "\n",
    "c5 = Conv2D(256, (3, 3), activation='elu', padding='same') (p4)\n",
    "c5 = Dropout(0.3) (c5)\n",
    "c5 = Conv2D(256, (3, 3), activation='elu', padding='same') (c5)\n",
    "\n",
    "u6 = Conv2DTranspose(128, (2, 2), strides=(2, 2), padding='same') (c5)\n",
    "u6 = concatenate([u6, c4])\n",
    "c6 = Conv2D(128, (3, 3), activation='elu', padding='same') (u6)\n",
    "c6 = Dropout(0.2) (c6)\n",
    "c6 = Conv2D(128, (3, 3), activation='elu', padding='same') (c6)\n",
    "\n",
    "u7 = Conv2DTranspose(64, (2, 2), strides=(2, 2), padding='same') (c6)\n",
    "u7 = concatenate([u7, c3])\n",
    "c7 = Conv2D(64, (3, 3), activation='elu', padding='same') (u7)\n",
    "c7 = Dropout(0.2) (c7)\n",
    "c7 = Conv2D(64, (3, 3), activation='elu', padding='same') (c7)\n",
    "\n",
    "u8 = Conv2DTranspose(32, (2, 2), strides=(2, 2), padding='same') (c7)\n",
    "u8 = concatenate([u8, c2])\n",
    "c8 = Conv2D(32, (3, 3), activation='elu', padding='same') (u8)\n",
    "c8 = Dropout(0.1) (c8)\n",
    "c8 = Conv2D(32, (3, 3), activation='elu', padding='same') (c8)\n",
    "\n",
    "u9 = Conv2DTranspose(16, (2, 2), strides=(2, 2), padding='same') (c8)\n",
    "u9 = concatenate([u9, c1], axis=3)\n",
    "c9 = Conv2D(16, (3, 3), activation='elu', padding='same') (u9)\n",
    "c9 = Dropout(0.1) (c9)\n",
    "c9 = Conv2D(16, (3, 3), activation='elu', padding='same') (c9)\n",
    "\n",
    "outputs = Conv2D(1, (1, 1), activation='sigmoid') (c9)\n",
    "\n",
    "model = Model(inputs=[inputs], outputs=[outputs])\n",
    "callback = keras.callbacks.EarlyStopping(monitor='val_dice_coef', patience=100)\n",
    "\n",
    "def dice_coef(y_true, y_pred, smooth=1):\n",
    "    y_true_f = K.flatten(y_true)\n",
    "    y_pred_f = K.flatten(y_pred)\n",
    "    intersection = K.sum(y_true_f * y_pred_f)\n",
    "    return -(2. * intersection + smooth) \\\n",
    "            / (K.sum(y_true_f) + K.sum(y_pred_f) + smooth)\n",
    "\n",
    "model.compile(optimizer='adam', loss='binary_crossentropy', metrics=[dice_coef])"
   ]
  },
  {
   "cell_type": "code",
   "execution_count": null,
   "id": "80453c41-de5b-4dc8-b52a-b1648963b2a6",
   "metadata": {},
   "outputs": [],
   "source": [
    "results = [model.fit_generator(keras_generator(train_df, 32), \n",
    "                              steps_per_epoch=25,\n",
    "                              epochs=20000,\n",
    "                              callbacks = [callback],\n",
    "                              validation_data=(x_valid, y_valid))]"
   ]
  },
  {
   "cell_type": "code",
   "execution_count": null,
   "id": "da0f8df6-ed3b-4bf8-ab31-53900971fc24",
   "metadata": {},
   "outputs": [],
   "source": [
    "model.save('Cracks32.h5')"
   ]
  },
  {
   "cell_type": "code",
   "execution_count": null,
   "id": "28ceabaf-f2dd-444c-9aae-2536780c8fcc",
   "metadata": {},
   "outputs": [],
   "source": [
    "#tr = pd.read_excel(r'C:\\Users\\user\\Documents\\Disser\\Книга2.xlsx')"
   ]
  },
  {
   "cell_type": "code",
   "execution_count": null,
   "id": "1d4abff2-359a-465e-a756-61ddd52a169e",
   "metadata": {},
   "outputs": [],
   "source": [
    "#df_train = tr.copy()"
   ]
  },
  {
   "cell_type": "code",
   "execution_count": null,
   "id": "92762283-df33-48d1-a7b2-edcf315450e0",
   "metadata": {},
   "outputs": [],
   "source": [
    "#from sklearn.model_selection import train_test_split\n",
    "#train_df, valid_df = train_test_split(df_train, \n",
    "           #      test_size = 0.1)\n",
    "#print(train_df.shape[0], 'training masks')\n",
    "#print(valid_df.shape[0], 'validation masks')"
   ]
  },
  {
   "cell_type": "code",
   "execution_count": null,
   "id": "7bfa2d90-38b4-47a6-b967-685dcf8e750d",
   "metadata": {},
   "outputs": [],
   "source": [
    "#print(train_df)"
   ]
  },
  {
   "cell_type": "code",
   "execution_count": null,
   "id": "d6c89a2a-0cd5-46fb-b1eb-90e428281de6",
   "metadata": {},
   "outputs": [],
   "source": [
    "#for x_train, y_train in keras_generator(train_df, len(train_df)):\n",
    "#    break"
   ]
  },
  {
   "cell_type": "code",
   "execution_count": null,
   "id": "94d98932-72fb-4419-9f55-2677cff49f3b",
   "metadata": {},
   "outputs": [],
   "source": [
    "#for x_valid, y_valid in keras_generator(valid_df, len(valid_df)): \n",
    "#    break"
   ]
  },
  {
   "cell_type": "code",
   "execution_count": null,
   "id": "ff0604eb-ee90-41ad-89bf-041909db5516",
   "metadata": {},
   "outputs": [],
   "source": [
    "#modelPhase = Model(inputs=[inputs], outputs=[outputs])\n",
    "#modelPhase.compile(optimizer='adam', loss='binary_crossentropy', metrics=[dice_coef])\n",
    "\n",
    "#results = [modelPhase.fit_generator(keras_generator(train_df, 90), \n",
    "  #                            steps_per_epoch=25,\n",
    " #                             epochs=20000,\n",
    "  #                            callbacks = [callback],\n",
    " #                             validation_data=(x_valid, y_valid))]"
   ]
  },
  {
   "cell_type": "code",
   "execution_count": null,
   "id": "a14c3139-e424-4fb9-8ed5-57c15455594a",
   "metadata": {},
   "outputs": [],
   "source": [
    "#model.save('Phase32.h5')"
   ]
  },
  {
   "cell_type": "code",
   "execution_count": null,
   "id": "b8606b79-f6fb-464b-ac13-92e7c4bb57fe",
   "metadata": {},
   "outputs": [],
   "source": [
    "def dice_coef(y_true, y_pred, smooth=1):\n",
    "    y_true_f = K.flatten(y_true)\n",
    "    y_pred_f = K.flatten(y_pred)\n",
    "    intersection = K.sum(y_true_f * y_pred_f)\n",
    "    return -(2. * intersection + smooth) \\\n",
    "            / (K.sum(y_true_f) + K.sum(y_pred_f) + smooth)"
   ]
  },
  {
   "cell_type": "code",
   "execution_count": null,
   "id": "6c469094-2b77-4d1e-95da-5584907670d7",
   "metadata": {},
   "outputs": [],
   "source": [
    "from keras.models import load_model\n",
    "GPR_RGB = cv2.imread(r'C:\\Users\\semas\\OneDrive\\Documents\\Disser\\397soedpk3-pk4.bmp')\n",
    "GPR = cv2.cvtColor(GPR_RGB, cv2.COLOR_BGR2GRAY)\n",
    "    \n",
    "modelCrack = load_model(r'C:\\Users\\semas\\Cracks32.h5', custom_objects={'dice_coef': dice_coef})\n",
    "#modelPhase = load_model(r'C:\\Users\\user\\Phase32.h5', custom_objects={'dice_coef': dice_coef})\n",
    "\n",
    "maskCracks = np.zeros(GPR.shape)\n",
    "#maskPhase = np.zeros(GPR.shape)\n",
    "count_mask = np.zeros(GPR.shape)\n",
    "\n",
    "for i in range(0, GPR.shape[0] - 31, 4):\n",
    "    for j in range(0, GPR.shape[1] - 31, 4):\n",
    "        print(i,j)\n",
    "        cell = np.array([GPR[i:i+32,j:j+32]])\n",
    "        predCrack = modelCrack.predict(cell)[0].reshape(32,32)\n",
    "        #predPhase = modelPhase.predict(cell)[0].reshape(16,16)\n",
    "        maskCracks[i:i+32,j:j+32] += predCrack\n",
    "        #maskPhase[i:i+16,j:j+16] += predPhase\n",
    "        count_mask[i:i+32,j:j+32] += 1\n",
    "                \n",
    "maskCracks = np.divide(maskCracks,count_mask)\n",
    "#maskPhase = np.divide(maskPhase,count_mask)"
   ]
  },
  {
   "cell_type": "code",
   "execution_count": null,
   "id": "88ea1ba9-6a8a-4d70-8d5a-d690db9f0eda",
   "metadata": {},
   "outputs": [],
   "source": [
    "fig, (ax1, ax2) = plt.subplots(2, 1, figsize = (20, 10))\n",
    "ax1.imshow(maskCracks)\n",
    "#ax2.imshow(maskPhase)"
   ]
  },
  {
   "cell_type": "code",
   "execution_count": null,
   "id": "74c6440e-fee0-4a13-ae87-b14d6e07d004",
   "metadata": {},
   "outputs": [],
   "source": [
    "GPR_RGB = cv2.imread(r'C:\\Users\\semas\\OneDrive\\Documents\\Disser\\397soedpk3-pk4.bmp')\n",
    "GPR_RGB_1 = cv2.imread(r'C:\\Users\\semas\\OneDrive\\Documents\\Disser\\397soedpk3-pk4.bmp')\n",
    "for i in range(GPR_RGB.shape[0] - 1):\n",
    "    for j in range(GPR_RGB.shape[1] - 1):\n",
    "        #if maskPhase[i,j] > 0.2:\n",
    "            #    GPR_RGB[i, j] = [186,85,211]\n",
    "        if GPR_RGB[i, j, 0] == 255 and GPR_RGB[i, j, 1] == 255 and GPR_RGB[i, j, 2] == 255:\n",
    "                if maskCracks[i,j] > 0.2:\n",
    "                #if maskCracks[i,j - 1] < 0.25 and maskCracks[i - 1,j] < 0.25 and maskCracks[i - 1,j - 1] < 0.25 and maskCracks[i + 1,j] < 0.25 and maskCracks[i,j + 1] < 0.2 and maskCracks[i + 1,j + 1] < 0.2 and maskCracks[i + 1,j - 1] < 0.2 and maskCracks[i - 1,j + 1] < 0.2:\n",
    "                    GPR_RGB[i, j] = [255,0,0]\n",
    "                #else:\n",
    "                #   GPR_RGB[i, j] = [255,0,0]\n",
    "\n",
    "fig, (ax1, ax2) = plt.subplots(2, 1, figsize = (20, 10))\n",
    "ax1.imshow(GPR, cmap=\"gray\")             \n",
    "ax2.imshow(GPR_RGB)\n",
    "\n",
    "im = Image.fromarray(GPR_RGB)\n",
    "im.save('radmask.png')\n",
    "im = Image.fromarray(GPR_RGB_1)\n",
    "im.save('radmask_1.png')\n"
   ]
  },
  {
   "cell_type": "code",
   "execution_count": null,
   "id": "56f6eb21-9a3b-4231-bdbc-47422468ed52",
   "metadata": {},
   "outputs": [],
   "source": [
    "fig, (ax1) = plt.subplots(1, 1, figsize = (40, 3))\n",
    "GPR_RGB = cv2.imread(r'C:\\Users\\semas\\radmask.png')\n",
    "\n",
    "cracksCount = np.zeros(maskCracks.shape[1])\n",
    "for j in range(GPR_RGB.shape[1]):\n",
    "    for i in range(GPR_RGB.shape[0]):\n",
    "        if GPR_RGB[i,j,0] == 0 and GPR_RGB[i,j,1] == 0 and GPR_RGB[i,j,2] == 255:\n",
    "            cracksCount[j] += 1\n",
    "ax1.plot(cracksCount, color = 'red')\n",
    "\n",
    "plt.savefig('графики.png')"
   ]
  },
  {
   "cell_type": "code",
   "execution_count": null,
   "id": "673634c4-8117-452c-9b18-396f86b54f78",
   "metadata": {},
   "outputs": [],
   "source": []
  },
  {
   "cell_type": "code",
   "execution_count": null,
   "id": "9ec5ee0f-835d-4b97-b1ff-f6233254f066",
   "metadata": {},
   "outputs": [],
   "source": []
  }
 ],
 "metadata": {
  "kernelspec": {
   "display_name": "Python 3",
   "language": "python",
   "name": "python3"
  },
  "language_info": {
   "codemirror_mode": {
    "name": "ipython",
    "version": 3
   },
   "file_extension": ".py",
   "mimetype": "text/x-python",
   "name": "python",
   "nbconvert_exporter": "python",
   "pygments_lexer": "ipython3",
   "version": "3.9.5"
  }
 },
 "nbformat": 4,
 "nbformat_minor": 5
}
