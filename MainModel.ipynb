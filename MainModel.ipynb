{
 "cells": [
  {
   "cell_type": "code",
   "execution_count": 1,
   "metadata": {},
   "outputs": [],
   "source": [
    "import matplotlib.pyplot as plt\n",
    "from matplotlib import image\n",
    "import numpy as np\n",
    "from pathlib import Path\n",
    "import tensorflow as tf\n",
    "import os\n",
    "from tensorflow.keras.layers import Conv2D, MaxPooling2D, UpSampling2D, Input\n",
    "from tensorflow.keras.models import Model, load_model"
   ]
  },
  {
   "cell_type": "markdown",
   "metadata": {},
   "source": [
    "### Готовим данные для обучения"
   ]
  },
  {
   "cell_type": "markdown",
   "metadata": {},
   "source": [
    "Устанавливаем пути для каталогов с изображениями"
   ]
  },
  {
   "cell_type": "code",
   "execution_count": 2,
   "metadata": {},
   "outputs": [],
   "source": [
    "masked_files_path = r'./SyntheticMasks/'\n",
    "clean_files_path = r'./SyntheticTrain/'"
   ]
  },
  {
   "cell_type": "markdown",
   "metadata": {},
   "source": [
    "Создаем функции для формирования наборов исходных и целевых изображений. "
   ]
  },
  {
   "cell_type": "code",
   "execution_count": 3,
   "metadata": {},
   "outputs": [],
   "source": [
    "def get_samples(clean_path, masked_path, start=0, stop=-1):\n",
    "    clean_files = [f.name for f in Path(clean_path).glob('*') if f.is_file()]\n",
    "    masked_files = [f.name for f in Path(masked_path).glob('*') if f.is_file()]\n",
    "    files = [file for file in clean_files if file in masked_files]\n",
    "    if (stop == -1 or stop > len(files)):\n",
    "        stop = len(files)\n",
    "    files = files[start:stop]\n",
    "    X = []\n",
    "    y = []\n",
    "    for file in files:\n",
    "        clean_file = np.round(image.imread(f'{clean_path}{file}'))\n",
    "        masked_file = np.round(image.imread(f'{masked_path}{file}'))\n",
    "\n",
    "        X.append(clean_file)\n",
    "        y.append(masked_file)\n",
    "        \n",
    "    return np.array(X), np.array(y)"
   ]
  },
  {
   "cell_type": "markdown",
   "metadata": {},
   "source": [
    "### Сверточный автоэнкодер\n",
    "\n",
    "https://neurohive.io/ru/osnovy-data-science/avtojenkoder-tipy-arhitektur-i-primenenie/\n",
    "\n",
    "Автоэнкодеры сжимают входные данные для представления их в latent-space (скрытое пространство), а затем восстанавливают из этого представления output (выходные данные). Цель — получить на выходном слое отклик, наиболее близкий к входному.  \n",
    "Автоэнкодеры могут применяться для избавления изображения от шума. В нашем случае, с использовааанием модели не избавляемся от лишних данных, а добавляем недостающие.  \n",
    "\n",
    "Что касается модели, выбраны 3 сверточных слоя для кодера (32, 24, 8) с 2-мя слоями снижения размерности (max pooling).\n",
    "Слои декодера располагаются в обратном порядке (8, 24, 32) и между ними два слоя повышения размерности (upsampling). Число нейронов подобрано эмпирически, путем многократных опытов, при этом выбиралось такое минимальное количество нейронов, чтобы сеть можно было относительно быстро обучить и не допустить переобучения."
   ]
  },
  {
   "cell_type": "code",
   "execution_count": 4,
   "metadata": {},
   "outputs": [],
   "source": [
    "def create_deep_conv_ae_colour(l1=32, l2=24, l3=8):\n",
    "    input_img = Input(shape=(32, 32, 3))\n",
    "\n",
    "    x = Conv2D(l1, (8, 8), activation='relu', padding='same')(input_img)\n",
    "    x = MaxPooling2D((2, 2), padding='same')(x)\n",
    "    x = Conv2D(l2, (2, 2), activation='relu', padding='same')(x)\n",
    "    x = Conv2D(l3, (2, 2), activation='relu', padding='same')(x)\n",
    "    x = MaxPooling2D((2, 2), padding='same')(x)\n",
    "    encoded = Conv2D(3, (8, 8), activation='relu', padding='same')(x)\n",
    "\n",
    "    # На этом моменте представление  (8, 8, 3) т.е. 3*64-размерное\n",
    "\n",
    "    input_encoded = Input(shape=(8, 8, 3))\n",
    "    x = Conv2D(l3, (8, 8), activation='relu', padding='same')(input_encoded)\n",
    "    x = UpSampling2D((2, 2))(x)\n",
    "    x = Conv2D(l2, (2, 2), activation='relu', padding='same')(x)\n",
    "    x = Conv2D(l1, (2, 2), activation='relu', padding='same')(x)\n",
    "    x = UpSampling2D((2, 2))(x)\n",
    "    decoded = Conv2D(3, (8, 8), activation='sigmoid', padding='same')(x)\n",
    "\n",
    "    # Модели\n",
    "    encoder = Model(input_img, encoded, name=\"encoder\")\n",
    "    decoder = Model(input_encoded, decoded, name=\"decoder\")\n",
    "    autoencoder = Model(input_img, decoder(encoder(input_img)), name=\"autoencoder\")\n",
    "    return encoder, decoder, autoencoder"
   ]
  },
  {
   "cell_type": "markdown",
   "metadata": {},
   "source": [
    "Создаем 3 набора данных для обучения (12000 экземпляров, на них сетка будет учиться), проверки(2000 экземпляров, их сетка смотрит для вычисления ошибок) и валидации (1000 ручная проверка)."
   ]
  },
  {
   "cell_type": "code",
   "execution_count": 5,
   "metadata": {},
   "outputs": [],
   "source": [
    "X_train, y_train = get_samples(clean_files_path, masked_files_path, 0, 40000)\n",
    "X_test, y_test = get_samples(clean_files_path, masked_files_path, 40001, 49000)\n",
    "X_val, y_val = get_samples(clean_files_path, masked_files_path, 49001, 50000)"
   ]
  },
  {
   "cell_type": "markdown",
   "metadata": {},
   "source": [
    "Создаем экземпляр сети. В качестве оптимизатора используем алгоритм адаптивной оценки момента (Adam) (https://arxiv.org/pdf/1412.6980.pdf) и в качестве функции потерь binary crossentropy (пока хз почему, но она показывает лучшие результаты), метрика - mse (но можно поставить любую другую, тут тоже пока есть вопросы)"
   ]
  },
  {
   "cell_type": "code",
   "execution_count": 6,
   "metadata": {},
   "outputs": [],
   "source": [
    "l1, l2, l3 = 96, 48, 12"
   ]
  },
  {
   "cell_type": "code",
   "execution_count": 30,
   "metadata": {},
   "outputs": [],
   "source": [
    "_, _, c_autoencoder = create_deep_conv_ae_colour(l1, l2, l3)\n",
    "c_autoencoder.compile(optimizer='adam', loss='mse', metrics = ['logcosh', 'acc'])\n"
   ]
  },
  {
   "cell_type": "markdown",
   "metadata": {},
   "source": [
    "#### Загрузка ранее обученной модели \n",
    "Можно загрузить уже обученную модель и не тратить время на обучение. Для этого нужно расскоментировать и выполнить следующую ячейку."
   ]
  },
  {
   "cell_type": "code",
   "execution_count": 11,
   "metadata": {},
   "outputs": [],
   "source": [
    "c_autoencoder = tf.keras.models.load_model('model_cl_96-48-12.md')"
   ]
  },
  {
   "cell_type": "markdown",
   "metadata": {},
   "source": [
    "### Если мы загрузили модель из ячейки выше, то нижележащую ячейку выполнять не надо!\n",
    "\n",
    "Здесь модель обучается заново, для этого строки надо раскомментировать."
   ]
  },
  {
   "cell_type": "code",
   "execution_count": 31,
   "metadata": {},
   "outputs": [
    {
     "name": "stdout",
     "output_type": "stream",
     "text": [
      "Epoch 1/100\n",
      "240/240 [==============================] - 8s 29ms/step - loss: 0.0733 - logcosh: 0.0343 - acc: 0.8048 - val_loss: 0.0377 - val_logcosh: 0.0175 - val_acc: 0.7986\n",
      "Epoch 2/100\n",
      "240/240 [==============================] - 7s 29ms/step - loss: 0.0323 - logcosh: 0.0150 - acc: 0.8085 - val_loss: 0.0284 - val_logcosh: 0.0131 - val_acc: 0.8281\n",
      "Epoch 3/100\n",
      "240/240 [==============================] - 7s 29ms/step - loss: 0.0258 - logcosh: 0.0119 - acc: 0.8407 - val_loss: 0.0234 - val_logcosh: 0.0108 - val_acc: 0.8284\n",
      "Epoch 4/100\n",
      "240/240 [==============================] - 7s 29ms/step - loss: 0.0226 - logcosh: 0.0104 - acc: 0.8653 - val_loss: 0.0216 - val_logcosh: 0.0100 - val_acc: 0.8622\n",
      "Epoch 5/100\n",
      "240/240 [==============================] - 7s 29ms/step - loss: 0.0204 - logcosh: 0.0094 - acc: 0.8801 - val_loss: 0.0192 - val_logcosh: 0.0089 - val_acc: 0.8773\n",
      "Epoch 6/100\n",
      "240/240 [==============================] - 7s 29ms/step - loss: 0.0187 - logcosh: 0.0086 - acc: 0.8866 - val_loss: 0.0182 - val_logcosh: 0.0084 - val_acc: 0.8701\n",
      "Epoch 7/100\n",
      "240/240 [==============================] - 7s 29ms/step - loss: 0.0174 - logcosh: 0.0080 - acc: 0.8929 - val_loss: 0.0177 - val_logcosh: 0.0082 - val_acc: 0.9661\n",
      "Epoch 8/100\n",
      "240/240 [==============================] - 7s 29ms/step - loss: 0.0164 - logcosh: 0.0076 - acc: 0.8965 - val_loss: 0.0160 - val_logcosh: 0.0074 - val_acc: 0.9425\n",
      "Epoch 9/100\n",
      "240/240 [==============================] - 7s 29ms/step - loss: 0.0155 - logcosh: 0.0071 - acc: 0.8995 - val_loss: 0.0151 - val_logcosh: 0.0069 - val_acc: 0.8871\n",
      "Epoch 10/100\n",
      "240/240 [==============================] - 7s 29ms/step - loss: 0.0148 - logcosh: 0.0068 - acc: 0.9000 - val_loss: 0.0149 - val_logcosh: 0.0068 - val_acc: 0.9149\n",
      "Epoch 11/100\n",
      "240/240 [==============================] - 7s 29ms/step - loss: 0.0143 - logcosh: 0.0066 - acc: 0.9003 - val_loss: 0.0147 - val_logcosh: 0.0068 - val_acc: 0.9338\n",
      "Epoch 12/100\n",
      "240/240 [==============================] - 7s 29ms/step - loss: 0.0136 - logcosh: 0.0063 - acc: 0.8995 - val_loss: 0.0135 - val_logcosh: 0.0062 - val_acc: 0.8920\n",
      "Epoch 13/100\n",
      "240/240 [==============================] - 7s 29ms/step - loss: 0.0132 - logcosh: 0.0060 - acc: 0.8993 - val_loss: 0.0138 - val_logcosh: 0.0063 - val_acc: 0.8822\n",
      "Epoch 14/100\n",
      "240/240 [==============================] - 7s 29ms/step - loss: 0.0128 - logcosh: 0.0059 - acc: 0.8987 - val_loss: 0.0129 - val_logcosh: 0.0059 - val_acc: 0.8881\n",
      "Epoch 15/100\n",
      "240/240 [==============================] - 7s 29ms/step - loss: 0.0123 - logcosh: 0.0056 - acc: 0.8956 - val_loss: 0.0129 - val_logcosh: 0.0059 - val_acc: 0.9411\n",
      "Epoch 16/100\n",
      "240/240 [==============================] - 7s 29ms/step - loss: 0.0120 - logcosh: 0.0055 - acc: 0.8969 - val_loss: 0.0124 - val_logcosh: 0.0057 - val_acc: 0.8784\n",
      "Epoch 17/100\n",
      "240/240 [==============================] - 7s 29ms/step - loss: 0.0118 - logcosh: 0.0054 - acc: 0.8961 - val_loss: 0.0133 - val_logcosh: 0.0060 - val_acc: 0.8861\n",
      "Epoch 18/100\n",
      "240/240 [==============================] - 7s 29ms/step - loss: 0.0114 - logcosh: 0.0052 - acc: 0.8956 - val_loss: 0.0114 - val_logcosh: 0.0052 - val_acc: 0.9335\n",
      "Epoch 19/100\n",
      "240/240 [==============================] - 7s 29ms/step - loss: 0.0111 - logcosh: 0.0051 - acc: 0.8930 - val_loss: 0.0112 - val_logcosh: 0.0051 - val_acc: 0.8966\n",
      "Epoch 20/100\n",
      "240/240 [==============================] - 7s 29ms/step - loss: 0.0109 - logcosh: 0.0050 - acc: 0.8936 - val_loss: 0.0110 - val_logcosh: 0.0050 - val_acc: 0.8868\n",
      "Epoch 21/100\n",
      "240/240 [==============================] - 7s 29ms/step - loss: 0.0108 - logcosh: 0.0049 - acc: 0.8931 - val_loss: 0.0112 - val_logcosh: 0.0051 - val_acc: 0.8908\n",
      "Epoch 22/100\n",
      "240/240 [==============================] - 7s 29ms/step - loss: 0.0105 - logcosh: 0.0048 - acc: 0.8936 - val_loss: 0.0110 - val_logcosh: 0.0050 - val_acc: 0.8954\n",
      "Epoch 23/100\n",
      "240/240 [==============================] - 7s 29ms/step - loss: 0.0104 - logcosh: 0.0047 - acc: 0.8943 - val_loss: 0.0110 - val_logcosh: 0.0050 - val_acc: 0.8816\n",
      "Epoch 24/100\n",
      "240/240 [==============================] - 7s 29ms/step - loss: 0.0102 - logcosh: 0.0047 - acc: 0.8921 - val_loss: 0.0104 - val_logcosh: 0.0047 - val_acc: 0.8817\n",
      "Epoch 25/100\n",
      "240/240 [==============================] - 7s 29ms/step - loss: 0.0101 - logcosh: 0.0046 - acc: 0.8912 - val_loss: 0.0111 - val_logcosh: 0.0051 - val_acc: 0.8909\n",
      "Epoch 26/100\n",
      "240/240 [==============================] - 7s 29ms/step - loss: 0.0099 - logcosh: 0.0045 - acc: 0.8937 - val_loss: 0.0102 - val_logcosh: 0.0046 - val_acc: 0.8589\n",
      "Epoch 27/100\n",
      "240/240 [==============================] - 7s 29ms/step - loss: 0.0097 - logcosh: 0.0044 - acc: 0.8916 - val_loss: 0.0101 - val_logcosh: 0.0046 - val_acc: 0.8923\n",
      "Epoch 28/100\n",
      "240/240 [==============================] - 7s 29ms/step - loss: 0.0096 - logcosh: 0.0044 - acc: 0.8918 - val_loss: 0.0104 - val_logcosh: 0.0047 - val_acc: 0.8815\n",
      "Epoch 29/100\n",
      "240/240 [==============================] - 7s 29ms/step - loss: 0.0095 - logcosh: 0.0043 - acc: 0.8912 - val_loss: 0.0101 - val_logcosh: 0.0046 - val_acc: 0.8613\n",
      "Epoch 30/100\n",
      "240/240 [==============================] - 7s 29ms/step - loss: 0.0094 - logcosh: 0.0043 - acc: 0.8927 - val_loss: 0.0098 - val_logcosh: 0.0044 - val_acc: 0.8779\n",
      "Epoch 31/100\n",
      "240/240 [==============================] - 7s 29ms/step - loss: 0.0094 - logcosh: 0.0043 - acc: 0.8923 - val_loss: 0.0099 - val_logcosh: 0.0045 - val_acc: 0.8827\n",
      "Epoch 32/100\n",
      "240/240 [==============================] - 7s 29ms/step - loss: 0.0092 - logcosh: 0.0042 - acc: 0.8916 - val_loss: 0.0098 - val_logcosh: 0.0045 - val_acc: 0.8917\n",
      "Epoch 33/100\n",
      "240/240 [==============================] - 7s 29ms/step - loss: 0.0090 - logcosh: 0.0041 - acc: 0.8918 - val_loss: 0.0097 - val_logcosh: 0.0044 - val_acc: 0.8923\n",
      "Epoch 34/100\n",
      "240/240 [==============================] - 7s 29ms/step - loss: 0.0091 - logcosh: 0.0042 - acc: 0.8921 - val_loss: 0.0094 - val_logcosh: 0.0043 - val_acc: 0.9232\n",
      "Epoch 35/100\n",
      "240/240 [==============================] - 7s 29ms/step - loss: 0.0089 - logcosh: 0.0041 - acc: 0.8908 - val_loss: 0.0094 - val_logcosh: 0.0043 - val_acc: 0.8922\n",
      "Epoch 36/100\n",
      "240/240 [==============================] - 7s 29ms/step - loss: 0.0089 - logcosh: 0.0041 - acc: 0.8929 - val_loss: 0.0095 - val_logcosh: 0.0044 - val_acc: 0.8768\n",
      "Epoch 37/100\n",
      "240/240 [==============================] - 7s 29ms/step - loss: 0.0087 - logcosh: 0.0040 - acc: 0.8937 - val_loss: 0.0092 - val_logcosh: 0.0042 - val_acc: 0.8986\n",
      "Epoch 38/100\n",
      "240/240 [==============================] - 7s 29ms/step - loss: 0.0088 - logcosh: 0.0040 - acc: 0.8941 - val_loss: 0.0093 - val_logcosh: 0.0043 - val_acc: 0.9192\n",
      "Epoch 39/100\n",
      "240/240 [==============================] - 7s 29ms/step - loss: 0.0086 - logcosh: 0.0039 - acc: 0.8944 - val_loss: 0.0092 - val_logcosh: 0.0042 - val_acc: 0.8882\n",
      "Epoch 40/100\n",
      "240/240 [==============================] - 7s 29ms/step - loss: 0.0085 - logcosh: 0.0039 - acc: 0.8946 - val_loss: 0.0091 - val_logcosh: 0.0042 - val_acc: 0.8799\n",
      "Epoch 41/100\n",
      "240/240 [==============================] - 7s 29ms/step - loss: 0.0086 - logcosh: 0.0039 - acc: 0.8968 - val_loss: 0.0091 - val_logcosh: 0.0041 - val_acc: 0.8954\n",
      "Epoch 42/100\n",
      "240/240 [==============================] - 7s 29ms/step - loss: 0.0084 - logcosh: 0.0038 - acc: 0.8966 - val_loss: 0.0091 - val_logcosh: 0.0041 - val_acc: 0.9148\n",
      "Epoch 43/100\n",
      "240/240 [==============================] - 7s 30ms/step - loss: 0.0084 - logcosh: 0.0038 - acc: 0.8982 - val_loss: 0.0091 - val_logcosh: 0.0041 - val_acc: 0.8769\n",
      "Epoch 44/100\n",
      "240/240 [==============================] - 7s 29ms/step - loss: 0.0084 - logcosh: 0.0038 - acc: 0.8993 - val_loss: 0.0091 - val_logcosh: 0.0041 - val_acc: 0.9096\n",
      "Epoch 45/100\n",
      "240/240 [==============================] - 7s 29ms/step - loss: 0.0083 - logcosh: 0.0038 - acc: 0.9008 - val_loss: 0.0098 - val_logcosh: 0.0044 - val_acc: 0.9007\n",
      "Epoch 46/100\n",
      "240/240 [==============================] - 7s 29ms/step - loss: 0.0083 - logcosh: 0.0038 - acc: 0.9021 - val_loss: 0.0089 - val_logcosh: 0.0040 - val_acc: 0.8894\n",
      "Epoch 47/100\n",
      "240/240 [==============================] - 7s 29ms/step - loss: 0.0082 - logcosh: 0.0037 - acc: 0.9027 - val_loss: 0.0088 - val_logcosh: 0.0040 - val_acc: 0.9073\n",
      "Epoch 48/100\n",
      "240/240 [==============================] - 7s 29ms/step - loss: 0.0081 - logcosh: 0.0037 - acc: 0.9041 - val_loss: 0.0090 - val_logcosh: 0.0041 - val_acc: 0.9121\n",
      "Epoch 49/100\n",
      "240/240 [==============================] - 7s 29ms/step - loss: 0.0081 - logcosh: 0.0037 - acc: 0.9066 - val_loss: 0.0088 - val_logcosh: 0.0040 - val_acc: 0.9099\n",
      "Epoch 50/100\n",
      "240/240 [==============================] - 7s 29ms/step - loss: 0.0082 - logcosh: 0.0037 - acc: 0.9084 - val_loss: 0.0091 - val_logcosh: 0.0041 - val_acc: 0.9217\n",
      "Epoch 51/100\n",
      "240/240 [==============================] - 7s 29ms/step - loss: 0.0080 - logcosh: 0.0036 - acc: 0.9079 - val_loss: 0.0085 - val_logcosh: 0.0039 - val_acc: 0.9136\n",
      "Epoch 52/100\n",
      "240/240 [==============================] - 7s 29ms/step - loss: 0.0080 - logcosh: 0.0037 - acc: 0.9096 - val_loss: 0.0087 - val_logcosh: 0.0040 - val_acc: 0.9110\n",
      "Epoch 53/100\n",
      "240/240 [==============================] - 7s 29ms/step - loss: 0.0079 - logcosh: 0.0036 - acc: 0.9111 - val_loss: 0.0085 - val_logcosh: 0.0038 - val_acc: 0.9276\n",
      "Epoch 54/100\n",
      "240/240 [==============================] - 7s 29ms/step - loss: 0.0079 - logcosh: 0.0036 - acc: 0.9117 - val_loss: 0.0087 - val_logcosh: 0.0039 - val_acc: 0.9039\n",
      "Epoch 55/100\n",
      "240/240 [==============================] - 7s 29ms/step - loss: 0.0078 - logcosh: 0.0036 - acc: 0.9144 - val_loss: 0.0088 - val_logcosh: 0.0040 - val_acc: 0.9232\n",
      "Epoch 56/100\n",
      "240/240 [==============================] - 7s 29ms/step - loss: 0.0078 - logcosh: 0.0035 - acc: 0.9162 - val_loss: 0.0085 - val_logcosh: 0.0039 - val_acc: 0.9214\n",
      "Epoch 57/100\n",
      "240/240 [==============================] - 7s 29ms/step - loss: 0.0079 - logcosh: 0.0036 - acc: 0.9175 - val_loss: 0.0088 - val_logcosh: 0.0040 - val_acc: 0.9061\n",
      "Epoch 58/100\n",
      "240/240 [==============================] - 7s 29ms/step - loss: 0.0077 - logcosh: 0.0035 - acc: 0.9189 - val_loss: 0.0084 - val_logcosh: 0.0038 - val_acc: 0.9187\n",
      "Epoch 59/100\n",
      "240/240 [==============================] - 7s 29ms/step - loss: 0.0077 - logcosh: 0.0035 - acc: 0.9199 - val_loss: 0.0086 - val_logcosh: 0.0039 - val_acc: 0.9017\n",
      "Epoch 60/100\n",
      "240/240 [==============================] - 7s 29ms/step - loss: 0.0076 - logcosh: 0.0035 - acc: 0.9211 - val_loss: 0.0084 - val_logcosh: 0.0038 - val_acc: 0.9150\n",
      "Epoch 61/100\n",
      "240/240 [==============================] - 7s 29ms/step - loss: 0.0076 - logcosh: 0.0035 - acc: 0.9219 - val_loss: 0.0087 - val_logcosh: 0.0039 - val_acc: 0.9262\n",
      "Epoch 62/100\n",
      "240/240 [==============================] - 7s 29ms/step - loss: 0.0076 - logcosh: 0.0034 - acc: 0.9240 - val_loss: 0.0085 - val_logcosh: 0.0038 - val_acc: 0.9320\n",
      "Epoch 63/100\n",
      "240/240 [==============================] - 7s 29ms/step - loss: 0.0075 - logcosh: 0.0034 - acc: 0.9265 - val_loss: 0.0086 - val_logcosh: 0.0039 - val_acc: 0.9364\n",
      "Epoch 64/100\n",
      "240/240 [==============================] - 7s 29ms/step - loss: 0.0075 - logcosh: 0.0034 - acc: 0.9274 - val_loss: 0.0085 - val_logcosh: 0.0039 - val_acc: 0.9238\n",
      "Epoch 65/100\n",
      "240/240 [==============================] - 7s 29ms/step - loss: 0.0075 - logcosh: 0.0034 - acc: 0.9282 - val_loss: 0.0085 - val_logcosh: 0.0039 - val_acc: 0.9290\n",
      "Epoch 66/100\n",
      "240/240 [==============================] - 7s 29ms/step - loss: 0.0075 - logcosh: 0.0034 - acc: 0.9303 - val_loss: 0.0088 - val_logcosh: 0.0040 - val_acc: 0.9283\n",
      "Epoch 67/100\n",
      "240/240 [==============================] - 7s 29ms/step - loss: 0.0074 - logcosh: 0.0034 - acc: 0.9319 - val_loss: 0.0090 - val_logcosh: 0.0041 - val_acc: 0.9368\n",
      "Epoch 68/100\n",
      "240/240 [==============================] - 7s 29ms/step - loss: 0.0074 - logcosh: 0.0034 - acc: 0.9334 - val_loss: 0.0086 - val_logcosh: 0.0039 - val_acc: 0.9349\n",
      "Epoch 69/100\n",
      "240/240 [==============================] - 7s 29ms/step - loss: 0.0074 - logcosh: 0.0034 - acc: 0.9350 - val_loss: 0.0082 - val_logcosh: 0.0037 - val_acc: 0.9357\n",
      "Epoch 70/100\n",
      "240/240 [==============================] - 7s 29ms/step - loss: 0.0073 - logcosh: 0.0033 - acc: 0.9369 - val_loss: 0.0082 - val_logcosh: 0.0037 - val_acc: 0.9329\n",
      "Epoch 71/100\n",
      "240/240 [==============================] - 7s 30ms/step - loss: 0.0073 - logcosh: 0.0033 - acc: 0.9378 - val_loss: 0.0082 - val_logcosh: 0.0037 - val_acc: 0.9277\n",
      "Epoch 72/100\n",
      "240/240 [==============================] - 7s 29ms/step - loss: 0.0073 - logcosh: 0.0033 - acc: 0.9381 - val_loss: 0.0082 - val_logcosh: 0.0037 - val_acc: 0.9231\n",
      "Epoch 73/100\n",
      "240/240 [==============================] - 7s 29ms/step - loss: 0.0072 - logcosh: 0.0033 - acc: 0.9395 - val_loss: 0.0084 - val_logcosh: 0.0038 - val_acc: 0.9400\n",
      "Epoch 74/100\n",
      "240/240 [==============================] - 7s 29ms/step - loss: 0.0073 - logcosh: 0.0033 - acc: 0.9399 - val_loss: 0.0086 - val_logcosh: 0.0039 - val_acc: 0.9539\n",
      "Epoch 75/100\n",
      "240/240 [==============================] - 7s 29ms/step - loss: 0.0072 - logcosh: 0.0033 - acc: 0.9402 - val_loss: 0.0082 - val_logcosh: 0.0037 - val_acc: 0.9404\n",
      "Epoch 76/100\n",
      "240/240 [==============================] - 7s 29ms/step - loss: 0.0072 - logcosh: 0.0033 - acc: 0.9409 - val_loss: 0.0085 - val_logcosh: 0.0038 - val_acc: 0.9447\n",
      "Epoch 77/100\n",
      "240/240 [==============================] - 7s 28ms/step - loss: 0.0073 - logcosh: 0.0033 - acc: 0.9405 - val_loss: 0.0083 - val_logcosh: 0.0038 - val_acc: 0.9312\n",
      "Epoch 78/100\n",
      "240/240 [==============================] - 7s 28ms/step - loss: 0.0072 - logcosh: 0.0033 - acc: 0.9417 - val_loss: 0.0082 - val_logcosh: 0.0037 - val_acc: 0.9492\n",
      "Epoch 79/100\n",
      "240/240 [==============================] - 7s 28ms/step - loss: 0.0071 - logcosh: 0.0032 - acc: 0.9415 - val_loss: 0.0082 - val_logcosh: 0.0037 - val_acc: 0.9406\n",
      "Epoch 80/100\n",
      "240/240 [==============================] - 7s 29ms/step - loss: 0.0071 - logcosh: 0.0032 - acc: 0.9421 - val_loss: 0.0083 - val_logcosh: 0.0037 - val_acc: 0.9528\n",
      "Epoch 81/100\n",
      "240/240 [==============================] - 7s 28ms/step - loss: 0.0072 - logcosh: 0.0033 - acc: 0.9419 - val_loss: 0.0083 - val_logcosh: 0.0038 - val_acc: 0.9424\n",
      "Epoch 82/100\n",
      "240/240 [==============================] - 7s 28ms/step - loss: 0.0071 - logcosh: 0.0032 - acc: 0.9420 - val_loss: 0.0081 - val_logcosh: 0.0037 - val_acc: 0.9483\n",
      "Epoch 83/100\n",
      "240/240 [==============================] - 7s 28ms/step - loss: 0.0071 - logcosh: 0.0032 - acc: 0.9413 - val_loss: 0.0080 - val_logcosh: 0.0036 - val_acc: 0.9400\n",
      "Epoch 84/100\n",
      "240/240 [==============================] - 7s 28ms/step - loss: 0.0069 - logcosh: 0.0031 - acc: 0.9421 - val_loss: 0.0082 - val_logcosh: 0.0037 - val_acc: 0.9460\n",
      "Epoch 85/100\n",
      "240/240 [==============================] - 7s 29ms/step - loss: 0.0070 - logcosh: 0.0032 - acc: 0.9429 - val_loss: 0.0086 - val_logcosh: 0.0039 - val_acc: 0.9271\n",
      "Epoch 86/100\n",
      "240/240 [==============================] - 7s 28ms/step - loss: 0.0071 - logcosh: 0.0032 - acc: 0.9436 - val_loss: 0.0080 - val_logcosh: 0.0036 - val_acc: 0.9417\n",
      "Epoch 87/100\n",
      "240/240 [==============================] - 7s 29ms/step - loss: 0.0069 - logcosh: 0.0031 - acc: 0.9437 - val_loss: 0.0080 - val_logcosh: 0.0036 - val_acc: 0.9451\n",
      "Epoch 88/100\n",
      "240/240 [==============================] - 7s 29ms/step - loss: 0.0069 - logcosh: 0.0031 - acc: 0.9437 - val_loss: 0.0080 - val_logcosh: 0.0036 - val_acc: 0.9462\n",
      "Epoch 89/100\n",
      "240/240 [==============================] - 7s 29ms/step - loss: 0.0072 - logcosh: 0.0033 - acc: 0.9438 - val_loss: 0.0081 - val_logcosh: 0.0037 - val_acc: 0.9496\n",
      "Epoch 90/100\n",
      "240/240 [==============================] - 7s 29ms/step - loss: 0.0069 - logcosh: 0.0031 - acc: 0.9437 - val_loss: 0.0081 - val_logcosh: 0.0036 - val_acc: 0.9342\n",
      "Epoch 91/100\n",
      "240/240 [==============================] - 7s 29ms/step - loss: 0.0068 - logcosh: 0.0031 - acc: 0.9442 - val_loss: 0.0080 - val_logcosh: 0.0036 - val_acc: 0.9481\n",
      "Epoch 92/100\n",
      "240/240 [==============================] - 7s 29ms/step - loss: 0.0069 - logcosh: 0.0032 - acc: 0.9442 - val_loss: 0.0081 - val_logcosh: 0.0037 - val_acc: 0.9501\n",
      "Epoch 93/100\n",
      "240/240 [==============================] - 7s 28ms/step - loss: 0.0068 - logcosh: 0.0031 - acc: 0.9437 - val_loss: 0.0081 - val_logcosh: 0.0037 - val_acc: 0.9530\n",
      "Epoch 94/100\n",
      "240/240 [==============================] - 7s 29ms/step - loss: 0.0068 - logcosh: 0.0031 - acc: 0.9432 - val_loss: 0.0080 - val_logcosh: 0.0036 - val_acc: 0.9413\n",
      "Epoch 95/100\n",
      "240/240 [==============================] - 7s 29ms/step - loss: 0.0068 - logcosh: 0.0031 - acc: 0.9435 - val_loss: 0.0080 - val_logcosh: 0.0036 - val_acc: 0.9431\n",
      "Epoch 96/100\n",
      "240/240 [==============================] - 7s 29ms/step - loss: 0.0069 - logcosh: 0.0031 - acc: 0.9437 - val_loss: 0.0080 - val_logcosh: 0.0036 - val_acc: 0.9379\n",
      "Epoch 97/100\n",
      "240/240 [==============================] - 7s 28ms/step - loss: 0.0068 - logcosh: 0.0031 - acc: 0.9439 - val_loss: 0.0081 - val_logcosh: 0.0036 - val_acc: 0.9476\n",
      "Epoch 98/100\n",
      "240/240 [==============================] - 7s 28ms/step - loss: 0.0068 - logcosh: 0.0031 - acc: 0.9448 - val_loss: 0.0084 - val_logcosh: 0.0038 - val_acc: 0.9272\n",
      "Epoch 99/100\n",
      "240/240 [==============================] - 7s 28ms/step - loss: 0.0069 - logcosh: 0.0031 - acc: 0.9451 - val_loss: 0.0080 - val_logcosh: 0.0036 - val_acc: 0.9477\n",
      "Epoch 100/100\n",
      "240/240 [==============================] - 7s 28ms/step - loss: 0.0067 - logcosh: 0.0030 - acc: 0.9455 - val_loss: 0.0079 - val_logcosh: 0.0036 - val_acc: 0.9428\n"
     ]
    }
   ],
   "source": [
    "history = c_autoencoder.fit(X_train, y_train,\n",
    "                  epochs=100,\n",
    "                  batch_size=50,\n",
    "                  shuffle=True,\n",
    "                  validation_data=(X_test, y_test))"
   ]
  },
  {
   "cell_type": "markdown",
   "metadata": {},
   "source": [
    "Сохраняем обученную модель."
   ]
  },
  {
   "cell_type": "code",
   "execution_count": 35,
   "metadata": {},
   "outputs": [
    {
     "name": "stdout",
     "output_type": "stream",
     "text": [
      "INFO:tensorflow:Assets written to: model_cl_96-48-12.md\\assets\n"
     ]
    }
   ],
   "source": [
    "c_autoencoder.save(f'model_cl_{l1}-{l2}-{l3}.md')"
   ]
  },
  {
   "cell_type": "code",
   "execution_count": 43,
   "metadata": {},
   "outputs": [
    {
     "data": {
      "image/png": "[encoded data removed]",
      "text/plain": [
       "<Figure size 432x288 with 1 Axes>"
      ]
     },
     "metadata": {
      "needs_background": "light"
     },
     "output_type": "display_data"
    },
    {
     "data": {
      "image/png": "[encoded data removed]",
      "text/plain": [
       "<Figure size 432x288 with 1 Axes>"
      ]
     },
     "metadata": {
      "needs_background": "light"
     },
     "output_type": "display_data"
    },
    {
     "data": {
      "image/png": "[encoded data removed]",
      "text/plain": [
       "<Figure size 432x288 with 1 Axes>"
      ]
     },
     "metadata": {
      "needs_background": "light"
     },
     "output_type": "display_data"
    }
   ],
   "source": [
    "acc = history.history['acc']\n",
    "val_acc = history.history['val_acc']\n",
    "\n",
    "loss = history.history['loss']\n",
    "val_loss = history.history['val_loss']\n",
    "\n",
    "logcosh = history.history['logcosh']\n",
    "val_logcosh = history.history['val_logcosh']\n",
    "\n",
    "epochs = range(1, len(acc) + 1)\n",
    "plt.plot(epochs, acc, 'r', label='Training acc')\n",
    "plt.plot(epochs, val_acc, 'b', label='Validation acc')\n",
    "plt.title('Training and validation accuracy')\n",
    "plt.legend()\n",
    "\n",
    "plt.figure()\n",
    "plt.plot(epochs, loss, 'r', label='Training mse')\n",
    "plt.plot(epochs, val_loss, 'b', label='Validation mse')\n",
    "plt.title('Training and validation loss')\n",
    "plt.legend()\n",
    "\n",
    "plt.figure()\n",
    "plt.plot(epochs, logcosh, 'r', label='Training logcosh')\n",
    "plt.plot(epochs, val_logcosh, 'b', label='Validation logcosh')\n",
    "plt.title('Training and validation logcosh')\n",
    "plt.legend()\n",
    "\n",
    "plt.show()"
   ]
  },
  {
   "cell_type": "markdown",
   "metadata": {},
   "source": [
    "### Оценка качества модели\n",
    "\n",
    "Здесь мы работаем с блоком валидации X_val"
   ]
  },
  {
   "cell_type": "markdown",
   "metadata": {},
   "source": [
    "Создаем функцию предсказания и постобработки изображения. На вход функции поступает модель(нейросеть), массив исходных изображений, позиция номер элемента в массиве. Функция запрашивает прогноз у модели для указанного элемената. Полученный результат обрабатывается следующим образом: \n",
    "- полученные красные пиксели накладываются только на белые участки исходного изображения;\n",
    "- удаляются все точки кроме красных, черных и белых;\n",
    "- удаляются отдельные красные точки, которые не соприкасаются с дргуими красными точками по вертикали или горизонтали."
   ]
  },
  {
   "cell_type": "code",
   "execution_count": 36,
   "metadata": {},
   "outputs": [],
   "source": [
    "def get_predicted_image(model, X ,n=0):\n",
    "    def border_points(pr, i, j):\n",
    "        if i-1 >= 0 and (pr[0][i-1][j] == [1.,0.,0.]).all():\n",
    "            return True\n",
    "        if j-1 >= 0 and (pr[0][i][j-1] == [1.,0.,0.]).all():\n",
    "            return True\n",
    "        if i+1 < pr.shape[1] and (pr[0][i+1][j] == [1.,0.,0.]).all():\n",
    "            return True\n",
    "        if j+1 < pr.shape[2] and (pr[0][i][j+1] == [1.,0.,0.]).all():\n",
    "            return True\n",
    "        return False\n",
    "    X = X[n:n+1]\n",
    "    pr = model.predict(X)\n",
    "    pr = np.round(pr)\n",
    "\n",
    "    for i in range(pr.shape[1]):\n",
    "        for j in range(pr.shape[2]):\n",
    "            if ((X[0][i][j] == [1.,1.,1.]).all() and (pr[0][i][j] == [1.,0.,0.]).all()) == False:\n",
    "                pr[0][i][j] = X[0][i][j]\n",
    "            \n",
    "    for i in range(pr.shape[1]):\n",
    "        for j in range(pr.shape[2]):\n",
    "            if (pr[0][i][j] == [1.,0.,0.]).all() and border_points(pr, i, j) == False:\n",
    "                pr[0][i][j] = [1.,1.,1.]\n",
    "    return pr.reshape(32,32,3)"
   ]
  },
  {
   "cell_type": "markdown",
   "metadata": {},
   "source": [
    "Вспомогательная функция для отрисовки картинок"
   ]
  },
  {
   "cell_type": "code",
   "execution_count": 37,
   "metadata": {},
   "outputs": [],
   "source": [
    "def plot_image(position, data, title):\n",
    "        plt.subplot (position)\n",
    "        plt.imshow(data)\n",
    "        plt.xlabel(\"X\")\n",
    "        plt.ylabel(\"Y\")\n",
    "        plt.title (title)"
   ]
  },
  {
   "cell_type": "markdown",
   "metadata": {},
   "source": [
    "Запускаем созданную нами функцию предсказания и постобработки. Смотрим что должно было быть и что получилось."
   ]
  },
  {
   "cell_type": "code",
   "execution_count": 50,
   "metadata": {},
   "outputs": [
    {
     "data": {
      "image/png": "[encoded data removed]",
      "text/plain": [
       "<Figure size 1224x360 with 3 Axes>"
      ]
     },
     "metadata": {
      "needs_background": "light"
     },
     "output_type": "display_data"
    }
   ],
   "source": [
    "#nn = 546+6\n",
    "# 441+6\n",
    "nn=441+21\n",
    "\n",
    "pr = get_predicted_image(c_autoencoder, X_val, nn)\n",
    "\n",
    "plt.figure(figsize=(17, 5))\n",
    "plot_image(131, X_val[nn:nn+1][0], \"Clear image\") \n",
    "plot_image(132, y_val[nn], \"Masked image\") \n",
    "plot_image(133, pr, \"Predicted image\") "
   ]
  },
  {
   "cell_type": "code",
   "execution_count": 64,
   "metadata": {},
   "outputs": [],
   "source": [
    "from scipy.spatial import distance\n",
    "from sklearn.metrics.pairwise import cosine_similarity,cosine_distances\n",
    "\n",
    "numbers = list(range(len(X_val)))\n",
    "dist=[]\n",
    "         \n",
    "for n in numbers:\n",
    "    pr = get_predicted_image(c_autoencoder, X_val, n)\n",
    "    dist.append(cosine_similarity(y_val[n].reshape(1,-1), pr.reshape(1,-1))[0][0])\n"
   ]
  },
  {
   "cell_type": "markdown",
   "metadata": {},
   "source": [
    "Косинусное мера — это метрика поиска схожих объектов. Для сонаправленных векторов косинус угла будет равен единице, а для ортогональных векторов - нулю. То есть наши изображения одинаковы, значит их косинусная мера должна быть равна 1."
   ]
  },
  {
   "cell_type": "code",
   "execution_count": 65,
   "metadata": {},
   "outputs": [
    {
     "data": {
      "image/png": "[encoded data removed]",
      "text/plain": [
       "<Figure size 432x288 with 1 Axes>"
      ]
     },
     "metadata": {
      "needs_background": "light"
     },
     "output_type": "display_data"
    }
   ],
   "source": [
    "plt.plot(numbers, dist, 'r', label='Cosine distance')\n",
    "plt.title('Cosine distance between masked and predicted images')\n",
    "plt.legend()               \n",
    "plt.show()"
   ]
  },
  {
   "cell_type": "markdown",
   "metadata": {},
   "source": [
    "Посчитаем среднее значение косинусной меры для поверочного набора изображений. Также, вычислим среднее отклонение косинусной меры на проверочном наборе."
   ]
  },
  {
   "cell_type": "code",
   "execution_count": 68,
   "metadata": {},
   "outputs": [
    {
     "name": "stdout",
     "output_type": "stream",
     "text": [
      "cosine similarity: 0.9938096404075623\n",
      "cosine difference: 0.006190359592437744\n"
     ]
    }
   ],
   "source": [
    "val_cosine_mean = np.mean(dist)\n",
    "print(f'cosine similarity: {val_cosine_mean}')\n",
    "print(f'cosine difference: {1-val_cosine_mean}')"
   ]
  },
  {
   "cell_type": "markdown",
   "metadata": {},
   "source": [
    "Видно, что мы попадаем очень близко."
   ]
  },
  {
   "cell_type": "code",
   "execution_count": null,
   "metadata": {},
   "outputs": [],
   "source": []
  }
 ],
 "metadata": {
  "interpreter": {
   "hash": "40d3a090f54c6569ab1632332b64b2c03c39dcf918b08424e98f38b5ae0af88f"
  },
  "kernelspec": {
   "display_name": "Python 3 (ipykernel)",
   "language": "python",
   "name": "python3"
  },
  "language_info": {
   "codemirror_mode": {
    "name": "ipython",
    "version": 3
   },
   "file_extension": ".py",
   "mimetype": "text/x-python",
   "name": "python",
   "nbconvert_exporter": "python",
   "pygments_lexer": "ipython3",
   "version": "3.9.12"
  }
 },
 "nbformat": 4,
 "nbformat_minor": 4
}
